{
 "cells": [
  {
   "cell_type": "code",
   "execution_count": 1,
   "id": "84d94341",
   "metadata": {},
   "outputs": [],
   "source": [
    "import pandas as pd"
   ]
  },
  {
   "cell_type": "code",
   "execution_count": 2,
   "id": "a93b914a",
   "metadata": {},
   "outputs": [],
   "source": [
    "import numpy as np"
   ]
  },
  {
   "cell_type": "code",
   "execution_count": 3,
   "id": "7d9ce8af",
   "metadata": {},
   "outputs": [],
   "source": [
    "forbes_2018=pd.read_csv(\"forbes_2018.csv\")"
   ]
  },
  {
   "cell_type": "code",
   "execution_count": 4,
   "id": "324d2d8c",
   "metadata": {},
   "outputs": [
    {
     "name": "stdout",
     "output_type": "stream",
     "text": [
      "   position                         name      lastName   age        country  \\\n",
      "0       NaN                          NaN           NaN   NaN            NaN   \n",
      "1       NaN  Anant Asavabhokhin & family  Asavabhokhin  67.0       Thailand   \n",
      "2       NaN                          NaN           NaN   NaN            NaN   \n",
      "3       NaN               Arash Ferdowsi      Ferdowsi  32.0  United States   \n",
      "4       NaN                          NaN           NaN   NaN            NaN   \n",
      "\n",
      "  gender         wealthSource     industry  worth  worthChange  realTimeWorth  \\\n",
      "0    NaN                  NaN          NaN    NaN          NaN            NaN   \n",
      "1      M          real estate  Real Estate    NaN       -0.001            NaN   \n",
      "2    NaN                  NaN          NaN    NaN          NaN            NaN   \n",
      "3      M  online file storage   Technology    NaN        0.000            NaN   \n",
      "4    NaN                  NaN          NaN    NaN          NaN            NaN   \n",
      "\n",
      "   realTimePosition                                              image  \n",
      "0               NaN                                                NaN  \n",
      "1            1613.0  https://specials-images.forbesimg.com/imageser...  \n",
      "2               NaN                                                NaN  \n",
      "3            1734.0  https://specials-images.forbesimg.com/imageser...  \n",
      "4               NaN                                                NaN  \n"
     ]
    }
   ],
   "source": [
    "print(forbes_2018.head())"
   ]
  },
  {
   "cell_type": "code",
   "execution_count": null,
   "id": "8f2e899b",
   "metadata": {},
   "outputs": [],
   "source": []
  },
  {
   "cell_type": "code",
   "execution_count": null,
   "id": "f902a03c",
   "metadata": {},
   "outputs": [],
   "source": []
  },
  {
   "cell_type": "code",
   "execution_count": null,
   "id": "af87126a",
   "metadata": {},
   "outputs": [],
   "source": []
  }
 ],
 "metadata": {
  "kernelspec": {
   "display_name": "Python 3",
   "language": "python",
   "name": "python3"
  },
  "language_info": {
   "codemirror_mode": {
    "name": "ipython",
    "version": 3
   },
   "file_extension": ".py",
   "mimetype": "text/x-python",
   "name": "python",
   "nbconvert_exporter": "python",
   "pygments_lexer": "ipython3",
   "version": "3.8.8"
  }
 },
 "nbformat": 4,
 "nbformat_minor": 5
}
