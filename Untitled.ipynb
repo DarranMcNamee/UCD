{
 "cells": [
  {
   "cell_type": "code",
   "execution_count": 1,
   "id": "89cd2bd5",
   "metadata": {},
   "outputs": [],
   "source": [
    "import pandas as pd"
   ]
  },
  {
   "cell_type": "code",
   "execution_count": 2,
   "id": "a7ab8a84",
   "metadata": {},
   "outputs": [],
   "source": [
    "import numpy as np"
   ]
  },
  {
   "cell_type": "code",
   "execution_count": 3,
   "id": "a834b060",
   "metadata": {},
   "outputs": [],
   "source": [
    "forbes_2018=pd.read_csv(\"forbes_2018.csv\")"
   ]
  },
  {
   "cell_type": "code",
   "execution_count": 4,
   "id": "3fa39771",
   "metadata": {},
   "outputs": [
    {
     "name": "stdout",
     "output_type": "stream",
     "text": [
      "   position                         name      lastName   age        country  \\\n",
      "0       NaN                          NaN           NaN   NaN            NaN   \n",
      "1       NaN  Anant Asavabhokhin & family  Asavabhokhin  67.0       Thailand   \n",
      "2       NaN                          NaN           NaN   NaN            NaN   \n",
      "3       NaN               Arash Ferdowsi      Ferdowsi  32.0  United States   \n",
      "4       NaN                          NaN           NaN   NaN            NaN   \n",
      "\n",
      "  gender         wealthSource     industry  worth  worthChange  realTimeWorth  \\\n",
      "0    NaN                  NaN          NaN    NaN          NaN            NaN   \n",
      "1      M          real estate  Real Estate    NaN       -0.001            NaN   \n",
      "2    NaN                  NaN          NaN    NaN          NaN            NaN   \n",
      "3      M  online file storage   Technology    NaN        0.000            NaN   \n",
      "4    NaN                  NaN          NaN    NaN          NaN            NaN   \n",
      "\n",
      "   realTimePosition                                              image  \n",
      "0               NaN                                                NaN  \n",
      "1            1613.0  https://specials-images.forbesimg.com/imageser...  \n",
      "2               NaN                                                NaN  \n",
      "3            1734.0  https://specials-images.forbesimg.com/imageser...  \n",
      "4               NaN                                                NaN  \n"
     ]
    }
   ],
   "source": [
    "print(forbes_2018.head())"
   ]
  },
  {
   "cell_type": "code",
   "execution_count": 7,
   "id": "ee7d972d",
   "metadata": {},
   "outputs": [
    {
     "ename": "NameError",
     "evalue": "name 'forbes_2018_data' is not defined",
     "output_type": "error",
     "traceback": [
      "\u001b[1;31m---------------------------------------------------------------------------\u001b[0m",
      "\u001b[1;31mNameError\u001b[0m                                 Traceback (most recent call last)",
      "\u001b[1;32m<ipython-input-7-8c4500221b8e>\u001b[0m in \u001b[0;36m<module>\u001b[1;34m\u001b[0m\n\u001b[1;32m----> 1\u001b[1;33m \u001b[0mprint\u001b[0m\u001b[1;33m(\u001b[0m\u001b[0mforbes_2018_data\u001b[0m\u001b[1;33m.\u001b[0m\u001b[0mshape\u001b[0m\u001b[1;33m)\u001b[0m\u001b[1;33m\u001b[0m\u001b[1;33m\u001b[0m\u001b[0m\n\u001b[0m",
      "\u001b[1;31mNameError\u001b[0m: name 'forbes_2018_data' is not defined"
     ]
    }
   ],
   "source": [
    "print(forbes_2018_data.shape)"
   ]
  },
  {
   "cell_type": "code",
   "execution_count": null,
   "id": "57f2cdf0",
   "metadata": {},
   "outputs": [],
   "source": []
  },
  {
   "cell_type": "code",
   "execution_count": null,
   "id": "01026282",
   "metadata": {},
   "outputs": [],
   "source": []
  }
 ],
 "metadata": {
  "kernelspec": {
   "display_name": "Python 3",
   "language": "python",
   "name": "python3"
  },
  "language_info": {
   "codemirror_mode": {
    "name": "ipython",
    "version": 3
   },
   "file_extension": ".py",
   "mimetype": "text/x-python",
   "name": "python",
   "nbconvert_exporter": "python",
   "pygments_lexer": "ipython3",
   "version": "3.8.8"
  }
 },
 "nbformat": 4,
 "nbformat_minor": 5
}
